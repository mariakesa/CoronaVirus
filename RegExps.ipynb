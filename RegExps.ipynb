{
 "cells": [
  {
   "cell_type": "code",
   "execution_count": 1,
   "metadata": {},
   "outputs": [],
   "source": [
    "import pandas as pd"
   ]
  },
  {
   "cell_type": "code",
   "execution_count": 2,
   "metadata": {},
   "outputs": [],
   "source": [
    "df=pd.read_pickle('/media/maria/DATA1/Documents/corona/processedtext/v8processedText0.pkl')"
   ]
  },
  {
   "cell_type": "code",
   "execution_count": 9,
   "metadata": {
    "scrolled": true
   },
   "outputs": [
    {
     "name": "stdout",
     "output_type": "stream",
     "text": [
      "(330021,)\n"
     ]
    }
   ],
   "source": [
    "print(df['sentence'].shape)"
   ]
  },
  {
   "cell_type": "code",
   "execution_count": 15,
   "metadata": {},
   "outputs": [
    {
     "data": {
      "text/html": [
       "<div>\n",
       "<style scoped>\n",
       "    .dataframe tbody tr th:only-of-type {\n",
       "        vertical-align: middle;\n",
       "    }\n",
       "\n",
       "    .dataframe tbody tr th {\n",
       "        vertical-align: top;\n",
       "    }\n",
       "\n",
       "    .dataframe thead th {\n",
       "        text-align: right;\n",
       "    }\n",
       "</style>\n",
       "<table border=\"1\" class=\"dataframe\">\n",
       "  <thead>\n",
       "    <tr style=\"text-align: right;\">\n",
       "      <th></th>\n",
       "      <th>cord_uid</th>\n",
       "      <th>language</th>\n",
       "      <th>sentence_id</th>\n",
       "      <th>section</th>\n",
       "      <th>subsection</th>\n",
       "      <th>sentence</th>\n",
       "      <th>lemma</th>\n",
       "      <th>UMLS</th>\n",
       "      <th>translated</th>\n",
       "      <th>GGP</th>\n",
       "      <th>...</th>\n",
       "      <th>GENE_OR_GENE_PRODUCT</th>\n",
       "      <th>SIMPLE_CHEMICAL</th>\n",
       "      <th>ANATOMICAL_SYSTEM</th>\n",
       "      <th>IMMATERIAL_ANATOMICAL_ENTITY</th>\n",
       "      <th>MULTI-TISSUE_STRUCTURE</th>\n",
       "      <th>DEVELOPING_ANATOMICAL_STRUCTURE</th>\n",
       "      <th>ORGANISM_SUBDIVISION</th>\n",
       "      <th>CELLULAR_COMPONENT</th>\n",
       "      <th>PATHOLOGICAL_FORMATION</th>\n",
       "      <th>ORGANISM_SUBSTANCE</th>\n",
       "    </tr>\n",
       "  </thead>\n",
       "  <tbody>\n",
       "    <tr>\n",
       "      <th>0</th>\n",
       "      <td>in7he5o4</td>\n",
       "      <td>en</td>\n",
       "      <td>in7he5o4170</td>\n",
       "      <td>Performance characteristics of the STI-MS assa...</td>\n",
       "      <td>17</td>\n",
       "      <td>To further evaluate the clinical performance o...</td>\n",
       "      <td>[evaluate, clinical, performance, assay, clini...</td>\n",
       "      <td>[Evaluation, performance - action, Biological ...</td>\n",
       "      <td>False</td>\n",
       "      <td>[]</td>\n",
       "      <td>...</td>\n",
       "      <td>[STI-MS]</td>\n",
       "      <td>[]</td>\n",
       "      <td>[]</td>\n",
       "      <td>[]</td>\n",
       "      <td>[]</td>\n",
       "      <td>[]</td>\n",
       "      <td>[]</td>\n",
       "      <td>[]</td>\n",
       "      <td>[]</td>\n",
       "      <td>[]</td>\n",
       "    </tr>\n",
       "    <tr>\n",
       "      <th>1</th>\n",
       "      <td>in7he5o4</td>\n",
       "      <td>en</td>\n",
       "      <td>in7he5o4171</td>\n",
       "      <td>Performance characteristics of the STI-MS assa...</td>\n",
       "      <td>17</td>\n",
       "      <td>The primers and probes used in the monoplex re...</td>\n",
       "      <td>[evaluate, clinical, performance, assay, clini...</td>\n",
       "      <td>[Oligonucleotide Primers, Probes, Real-Time Po...</td>\n",
       "      <td>False</td>\n",
       "      <td>[]</td>\n",
       "      <td>...</td>\n",
       "      <td>[]</td>\n",
       "      <td>[]</td>\n",
       "      <td>[]</td>\n",
       "      <td>[]</td>\n",
       "      <td>[]</td>\n",
       "      <td>[]</td>\n",
       "      <td>[]</td>\n",
       "      <td>[]</td>\n",
       "      <td>[]</td>\n",
       "      <td>[]</td>\n",
       "    </tr>\n",
       "    <tr>\n",
       "      <th>2</th>\n",
       "      <td>in7he5o4</td>\n",
       "      <td>en</td>\n",
       "      <td>in7he5o4172</td>\n",
       "      <td>Performance characteristics of the STI-MS assa...</td>\n",
       "      <td>17</td>\n",
       "      <td>The performance characteristics (sensitivity, ...</td>\n",
       "      <td>[evaluate, clinical, performance, assay, clini...</td>\n",
       "      <td>[performance - action, Characteristics, Statis...</td>\n",
       "      <td>False</td>\n",
       "      <td>[]</td>\n",
       "      <td>...</td>\n",
       "      <td>[]</td>\n",
       "      <td>[]</td>\n",
       "      <td>[]</td>\n",
       "      <td>[]</td>\n",
       "      <td>[]</td>\n",
       "      <td>[]</td>\n",
       "      <td>[]</td>\n",
       "      <td>[]</td>\n",
       "      <td>[]</td>\n",
       "      <td>[]</td>\n",
       "    </tr>\n",
       "    <tr>\n",
       "      <th>3</th>\n",
       "      <td>in7he5o4</td>\n",
       "      <td>en</td>\n",
       "      <td>in7he5o4173</td>\n",
       "      <td>Performance characteristics of the STI-MS assa...</td>\n",
       "      <td>17</td>\n",
       "      <td>Overall, there was very good sensitivity (rang...</td>\n",
       "      <td>[evaluate, clinical, performance, assay, clini...</td>\n",
       "      <td>[Statistical sensitivity, Diagnostic Specifici...</td>\n",
       "      <td>False</td>\n",
       "      <td>[]</td>\n",
       "      <td>...</td>\n",
       "      <td>[]</td>\n",
       "      <td>[]</td>\n",
       "      <td>[]</td>\n",
       "      <td>[]</td>\n",
       "      <td>[]</td>\n",
       "      <td>[]</td>\n",
       "      <td>[]</td>\n",
       "      <td>[]</td>\n",
       "      <td>[]</td>\n",
       "      <td>[]</td>\n",
       "    </tr>\n",
       "    <tr>\n",
       "      <th>4</th>\n",
       "      <td>in7he5o4</td>\n",
       "      <td>en</td>\n",
       "      <td>in7he5o4174</td>\n",
       "      <td>Performance characteristics of the STI-MS assa...</td>\n",
       "      <td>17</td>\n",
       "      <td>Because the STI-MS has a lower LOD than real-t...</td>\n",
       "      <td>[evaluate, clinical, performance, assay, clini...</td>\n",
       "      <td>[Limit of Detection, Real-Time Polymerase Chai...</td>\n",
       "      <td>False</td>\n",
       "      <td>[]</td>\n",
       "      <td>...</td>\n",
       "      <td>[STI-MS]</td>\n",
       "      <td>[]</td>\n",
       "      <td>[]</td>\n",
       "      <td>[]</td>\n",
       "      <td>[]</td>\n",
       "      <td>[]</td>\n",
       "      <td>[]</td>\n",
       "      <td>[]</td>\n",
       "      <td>[]</td>\n",
       "      <td>[]</td>\n",
       "    </tr>\n",
       "  </tbody>\n",
       "</table>\n",
       "<p>5 rows × 38 columns</p>\n",
       "</div>"
      ],
      "text/plain": [
       "   cord_uid language  sentence_id  \\\n",
       "0  in7he5o4       en  in7he5o4170   \n",
       "1  in7he5o4       en  in7he5o4171   \n",
       "2  in7he5o4       en  in7he5o4172   \n",
       "3  in7he5o4       en  in7he5o4173   \n",
       "4  in7he5o4       en  in7he5o4174   \n",
       "\n",
       "                                             section  subsection  \\\n",
       "0  Performance characteristics of the STI-MS assa...          17   \n",
       "1  Performance characteristics of the STI-MS assa...          17   \n",
       "2  Performance characteristics of the STI-MS assa...          17   \n",
       "3  Performance characteristics of the STI-MS assa...          17   \n",
       "4  Performance characteristics of the STI-MS assa...          17   \n",
       "\n",
       "                                            sentence  \\\n",
       "0  To further evaluate the clinical performance o...   \n",
       "1  The primers and probes used in the monoplex re...   \n",
       "2  The performance characteristics (sensitivity, ...   \n",
       "3  Overall, there was very good sensitivity (rang...   \n",
       "4  Because the STI-MS has a lower LOD than real-t...   \n",
       "\n",
       "                                               lemma  \\\n",
       "0  [evaluate, clinical, performance, assay, clini...   \n",
       "1  [evaluate, clinical, performance, assay, clini...   \n",
       "2  [evaluate, clinical, performance, assay, clini...   \n",
       "3  [evaluate, clinical, performance, assay, clini...   \n",
       "4  [evaluate, clinical, performance, assay, clini...   \n",
       "\n",
       "                                                UMLS  translated GGP  ...  \\\n",
       "0  [Evaluation, performance - action, Biological ...       False  []  ...   \n",
       "1  [Oligonucleotide Primers, Probes, Real-Time Po...       False  []  ...   \n",
       "2  [performance - action, Characteristics, Statis...       False  []  ...   \n",
       "3  [Statistical sensitivity, Diagnostic Specifici...       False  []  ...   \n",
       "4  [Limit of Detection, Real-Time Polymerase Chai...       False  []  ...   \n",
       "\n",
       "  GENE_OR_GENE_PRODUCT SIMPLE_CHEMICAL ANATOMICAL_SYSTEM  \\\n",
       "0             [STI-MS]              []                []   \n",
       "1                   []              []                []   \n",
       "2                   []              []                []   \n",
       "3                   []              []                []   \n",
       "4             [STI-MS]              []                []   \n",
       "\n",
       "  IMMATERIAL_ANATOMICAL_ENTITY MULTI-TISSUE_STRUCTURE  \\\n",
       "0                           []                     []   \n",
       "1                           []                     []   \n",
       "2                           []                     []   \n",
       "3                           []                     []   \n",
       "4                           []                     []   \n",
       "\n",
       "  DEVELOPING_ANATOMICAL_STRUCTURE ORGANISM_SUBDIVISION CELLULAR_COMPONENT  \\\n",
       "0                              []                   []                 []   \n",
       "1                              []                   []                 []   \n",
       "2                              []                   []                 []   \n",
       "3                              []                   []                 []   \n",
       "4                              []                   []                 []   \n",
       "\n",
       "  PATHOLOGICAL_FORMATION ORGANISM_SUBSTANCE  \n",
       "0                     []                 []  \n",
       "1                     []                 []  \n",
       "2                     []                 []  \n",
       "3                     []                 []  \n",
       "4                     []                 []  \n",
       "\n",
       "[5 rows x 38 columns]"
      ]
     },
     "execution_count": 15,
     "metadata": {},
     "output_type": "execute_result"
    }
   ],
   "source": [
    "df.head()"
   ]
  },
  {
   "cell_type": "code",
   "execution_count": 17,
   "metadata": {},
   "outputs": [
    {
     "data": {
      "text/plain": [
       "'The primers and probes used in the monoplex real-time PCR were listed in Table S2 in the supplementary material.'"
      ]
     },
     "execution_count": 17,
     "metadata": {},
     "output_type": "execute_result"
    }
   ],
   "source": [
    "df.iloc[1,5]"
   ]
  },
  {
   "cell_type": "code",
   "execution_count": 10,
   "metadata": {
    "scrolled": true
   },
   "outputs": [
    {
     "data": {
      "text/plain": [
       "Int64Index([    0,     1,     2,     3,     4,     5,     6,     7,     8,\n",
       "                9,\n",
       "            ...\n",
       "            24073, 24074, 24075, 24076, 24077, 24078, 24079, 24080, 24081,\n",
       "            24082],\n",
       "           dtype='int64', length=330021)"
      ]
     },
     "execution_count": 10,
     "metadata": {},
     "output_type": "execute_result"
    }
   ],
   "source": [
    "df.index"
   ]
  },
  {
   "cell_type": "code",
   "execution_count": null,
   "metadata": {},
   "outputs": [],
   "source": [
    "import re\n",
    "\n",
    "def match(string):\n",
    "    return re.match('independent',string)\n",
    "\n",
    "indep=df['sentence'].apply(lambda x: match(x))\n",
    "print(indep)\n",
    "print(indep.drop('na'))"
   ]
  },
  {
   "cell_type": "code",
   "execution_count": 12,
   "metadata": {},
   "outputs": [
    {
     "name": "stdout",
     "output_type": "stream",
     "text": [
      "Collecting gensim\n",
      "  Downloading gensim-3.8.2-cp37-cp37m-manylinux1_x86_64.whl (24.2 MB)\n",
      "\u001b[K     |████████████████████████████████| 24.2 MB 370 kB/s eta 0:00:01     |██████████████████▎             | 13.8 MB 309 kB/s eta 0:00:34\n",
      "\u001b[?25hRequirement already satisfied: scipy>=1.0.0 in /home/maria/anaconda3/lib/python3.7/site-packages (from gensim) (1.4.1)\n",
      "Requirement already satisfied: six>=1.5.0 in /home/maria/anaconda3/lib/python3.7/site-packages (from gensim) (1.14.0)\n",
      "Collecting smart-open>=1.8.1\n",
      "  Downloading smart_open-2.0.0.tar.gz (103 kB)\n",
      "\u001b[K     |████████████████████████████████| 103 kB 645 kB/s eta 0:00:01\n",
      "\u001b[?25hRequirement already satisfied: numpy>=1.11.3 in /home/maria/anaconda3/lib/python3.7/site-packages (from gensim) (1.17.2)\n",
      "Requirement already satisfied: requests in /home/maria/anaconda3/lib/python3.7/site-packages (from smart-open>=1.8.1->gensim) (2.23.0)\n",
      "Requirement already satisfied: boto in /home/maria/anaconda3/lib/python3.7/site-packages (from smart-open>=1.8.1->gensim) (2.49.0)\n",
      "Collecting boto3\n",
      "  Downloading boto3-1.12.48-py2.py3-none-any.whl (128 kB)\n",
      "\u001b[K     |████████████████████████████████| 128 kB 1.1 MB/s eta 0:00:01\n",
      "\u001b[?25hRequirement already satisfied: chardet<4,>=3.0.2 in /home/maria/anaconda3/lib/python3.7/site-packages (from requests->smart-open>=1.8.1->gensim) (3.0.4)\n",
      "Requirement already satisfied: urllib3!=1.25.0,!=1.25.1,<1.26,>=1.21.1 in /home/maria/anaconda3/lib/python3.7/site-packages (from requests->smart-open>=1.8.1->gensim) (1.25.8)\n",
      "Requirement already satisfied: certifi>=2017.4.17 in /home/maria/anaconda3/lib/python3.7/site-packages (from requests->smart-open>=1.8.1->gensim) (2020.4.5.1)\n",
      "Requirement already satisfied: idna<3,>=2.5 in /home/maria/anaconda3/lib/python3.7/site-packages (from requests->smart-open>=1.8.1->gensim) (2.9)\n",
      "Requirement already satisfied: s3transfer<0.4.0,>=0.3.0 in /home/maria/anaconda3/lib/python3.7/site-packages (from boto3->smart-open>=1.8.1->gensim) (0.3.3)\n",
      "Collecting botocore<1.16.0,>=1.15.48\n",
      "  Downloading botocore-1.15.48-py2.py3-none-any.whl (6.1 MB)\n",
      "\u001b[K     |████████████████████████████████| 6.1 MB 1.5 MB/s eta 0:00:01\n",
      "\u001b[?25hRequirement already satisfied: jmespath<1.0.0,>=0.7.1 in /home/maria/anaconda3/lib/python3.7/site-packages (from boto3->smart-open>=1.8.1->gensim) (0.9.5)\n",
      "Requirement already satisfied: python-dateutil<3.0.0,>=2.1 in /home/maria/anaconda3/lib/python3.7/site-packages (from botocore<1.16.0,>=1.15.48->boto3->smart-open>=1.8.1->gensim) (2.8.1)\n",
      "Requirement already satisfied: docutils<0.16,>=0.10 in /home/maria/anaconda3/lib/python3.7/site-packages (from botocore<1.16.0,>=1.15.48->boto3->smart-open>=1.8.1->gensim) (0.15.2)\n",
      "Building wheels for collected packages: smart-open\n",
      "  Building wheel for smart-open (setup.py) ... \u001b[?25ldone\n",
      "\u001b[?25h  Created wheel for smart-open: filename=smart_open-2.0.0-py3-none-any.whl size=101341 sha256=62bbd0d9d9f62fd3eafd66898b360229ac259540d278899ca5330eb4e0f29617\n",
      "  Stored in directory: /home/maria/.cache/pip/wheels/bb/1c/9c/412ec03f6d5ac7d41f4b965bde3fc0d1bd201da5ba3e2636de\n",
      "Successfully built smart-open\n",
      "\u001b[31mERROR: awscli 1.18.39 has requirement botocore==1.15.39, but you'll have botocore 1.15.48 which is incompatible.\u001b[0m\n",
      "Installing collected packages: botocore, boto3, smart-open, gensim\n",
      "  Attempting uninstall: botocore\n",
      "    Found existing installation: botocore 1.15.39\n",
      "    Uninstalling botocore-1.15.39:\n",
      "      Successfully uninstalled botocore-1.15.39\n",
      "Successfully installed boto3-1.12.48 botocore-1.15.48 gensim-3.8.2 smart-open-2.0.0\n"
     ]
    }
   ],
   "source": [
    "#!pip install gensim\n",
    "from gensim.test.utils import common_texts, get_tmpfile\n",
    "from gensim.models import Word2Vec\n",
    "path = get_tmpfile(\"word2vec.model\")"
   ]
  }
 ],
 "metadata": {
  "kernelspec": {
   "display_name": "Python 3",
   "language": "python",
   "name": "python3"
  },
  "language_info": {
   "codemirror_mode": {
    "name": "ipython",
    "version": 3
   },
   "file_extension": ".py",
   "mimetype": "text/x-python",
   "name": "python",
   "nbconvert_exporter": "python",
   "pygments_lexer": "ipython3",
   "version": "3.7.4"
  }
 },
 "nbformat": 4,
 "nbformat_minor": 4
}
