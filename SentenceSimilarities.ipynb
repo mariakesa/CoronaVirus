{
 "cells": [
  {
   "cell_type": "code",
   "execution_count": 1,
   "metadata": {},
   "outputs": [],
   "source": [
    "import spacy\n",
    "nlp = spacy.load(\"en_core_web_lg\")"
   ]
  },
  {
   "cell_type": "code",
   "execution_count": 2,
   "metadata": {},
   "outputs": [],
   "source": [
    "import pandas as pd"
   ]
  },
  {
   "cell_type": "code",
   "execution_count": 3,
   "metadata": {},
   "outputs": [],
   "source": [
    "df=pd.read_pickle('/media/maria/DATA1/Documents/corona/processedtext/v8processedText0.pkl')"
   ]
  },
  {
   "cell_type": "code",
   "execution_count": 4,
   "metadata": {},
   "outputs": [
    {
     "name": "stdout",
     "output_type": "stream",
     "text": [
      "Knockdown of VCP significantly reduced the increase of viral RNA in the supernantant from 0 to 16 hpi (Figure 1B).\n"
     ]
    }
   ],
   "source": [
    "print(df.iloc[30298,5])"
   ]
  },
  {
   "cell_type": "code",
   "execution_count": 5,
   "metadata": {},
   "outputs": [
    {
     "name": "stdout",
     "output_type": "stream",
     "text": [
      "Next, we validated that Gluc luminescence correlated with viral RNA and viral particle amounts in the same cell supernatants (Supplementary Figure S1), confirming that Gluc luminescence could be used as a marker of viral replication.\n"
     ]
    }
   ],
   "source": [
    "print(df.iloc[30299,5])"
   ]
  },
  {
   "cell_type": "code",
   "execution_count": 6,
   "metadata": {},
   "outputs": [
    {
     "data": {
      "text/plain": [
       "0.8556876991307439"
      ]
     },
     "execution_count": 6,
     "metadata": {},
     "output_type": "execute_result"
    }
   ],
   "source": [
    "doc1 = nlp(\"Knockdown of VCP significantly reduced the increase of viral RNA in the supernantant from 0 to 16 hpi (Figure 1B).\")\n",
    "doc2 = nlp(\"Next, we validated that Gluc luminescence correlated with viral RNA and viral particle amounts in the same cell supernatants (Supplementary Figure S1), confirming that Gluc luminescence could be used as a marker of viral replication.\")\n",
    "doc1.similarity(doc2)"
   ]
  },
  {
   "cell_type": "code",
   "execution_count": 7,
   "metadata": {},
   "outputs": [],
   "source": [
    "dat=pd.read_csv('/media/maria/DATA1/Documents/corona/metadata_features.csv')"
   ]
  },
  {
   "cell_type": "code",
   "execution_count": 9,
   "metadata": {},
   "outputs": [
    {
     "name": "stdout",
     "output_type": "stream",
     "text": [
      "10       In an effort to establish a screening program ...\n",
      "266      Patients with a virus-negative respiratory sam...\n",
      "465      Indeed, there was no significant difference be...\n",
      "716      Intent-to-treat analysis showed no significant...\n",
      "725      The HCWs with IgG against SARS and those witho...\n",
      "                               ...                        \n",
      "55904    The control group were injected with a saline ...\n",
      "55916    The effectiveness of inoculating calves with r...\n",
      "56251    After controlling for other independent variab...\n",
      "56358    A double-blinded randomized clinical trial was...\n",
      "56611    Salmonella specific IgYs detected in the immun...\n",
      "Name: variables_controlled_for, Length: 490, dtype: object\n"
     ]
    }
   ],
   "source": [
    "print(dat['variables_controlled_for'].dropna())"
   ]
  }
 ],
 "metadata": {
  "kernelspec": {
   "display_name": "Python 3",
   "language": "python",
   "name": "python3"
  },
  "language_info": {
   "codemirror_mode": {
    "name": "ipython",
    "version": 3
   },
   "file_extension": ".py",
   "mimetype": "text/x-python",
   "name": "python",
   "nbconvert_exporter": "python",
   "pygments_lexer": "ipython3",
   "version": "3.7.4"
  }
 },
 "nbformat": 4,
 "nbformat_minor": 4
}
