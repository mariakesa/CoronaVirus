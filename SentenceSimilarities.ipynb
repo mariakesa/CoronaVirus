{
 "cells": [
  {
   "cell_type": "code",
   "execution_count": 1,
   "metadata": {},
   "outputs": [],
   "source": [
    "import spacy\n",
    "nlp = spacy.load(\"en_core_web_lg\")"
   ]
  },
  {
   "cell_type": "code",
   "execution_count": 2,
   "metadata": {},
   "outputs": [],
   "source": [
    "import pandas as pd"
   ]
  },
  {
   "cell_type": "code",
   "execution_count": 3,
   "metadata": {},
   "outputs": [],
   "source": [
    "df=pd.read_pickle('/media/maria/DATA1/Documents/corona/processedtext/v8processedText0.pkl')"
   ]
  },
  {
   "cell_type": "code",
   "execution_count": 10,
   "metadata": {},
   "outputs": [
    {
     "name": "stdout",
     "output_type": "stream",
     "text": [
      "    cord_uid language  sentence_id  \\\n",
      "10  in7he5o4       en  in7he5o4810   \n",
      "\n",
      "                                              section  subsection  \\\n",
      "10  Resolution of discordant results ::: Materials...           8   \n",
      "\n",
      "                                             sentence  \\\n",
      "10  Digital PCR (dPCR) was performed for the arbit...   \n",
      "\n",
      "                                                lemma  \\\n",
      "10  [Digital, PCR, dPCR, perform, arbitration, dis...   \n",
      "\n",
      "                                                 UMLS  translated GGP  ...  \\\n",
      "10  [Digital Array, Digital Array, Arbitrating, Te...       False  []  ...   \n",
      "\n",
      "   GENE_OR_GENE_PRODUCT SIMPLE_CHEMICAL ANATOMICAL_SYSTEM  \\\n",
      "10             [STI-MS]              []                []   \n",
      "\n",
      "   IMMATERIAL_ANATOMICAL_ENTITY MULTI-TISSUE_STRUCTURE  \\\n",
      "10                           []                     []   \n",
      "\n",
      "   DEVELOPING_ANATOMICAL_STRUCTURE ORGANISM_SUBDIVISION CELLULAR_COMPONENT  \\\n",
      "10                              []                   []                 []   \n",
      "\n",
      "   PATHOLOGICAL_FORMATION ORGANISM_SUBSTANCE  \n",
      "10                     []                 []  \n",
      "\n",
      "[1 rows x 38 columns]\n"
     ]
    }
   ],
   "source": [
    "print(df.iloc[[10]])"
   ]
  },
  {
   "cell_type": "code",
   "execution_count": 5,
   "metadata": {},
   "outputs": [
    {
     "name": "stdout",
     "output_type": "stream",
     "text": [
      "Next, we validated that Gluc luminescence correlated with viral RNA and viral particle amounts in the same cell supernatants (Supplementary Figure S1), confirming that Gluc luminescence could be used as a marker of viral replication.\n"
     ]
    }
   ],
   "source": [
    "print(df.iloc[30299,5])"
   ]
  },
  {
   "cell_type": "code",
   "execution_count": 6,
   "metadata": {},
   "outputs": [
    {
     "data": {
      "text/plain": [
       "0.8556876991307439"
      ]
     },
     "execution_count": 6,
     "metadata": {},
     "output_type": "execute_result"
    }
   ],
   "source": [
    "doc1 = nlp(\"Knockdown of VCP significantly reduced the increase of viral RNA in the supernantant from 0 to 16 hpi (Figure 1B).\")\n",
    "doc2 = nlp(\"Next, we validated that Gluc luminescence correlated with viral RNA and viral particle amounts in the same cell supernatants (Supplementary Figure S1), confirming that Gluc luminescence could be used as a marker of viral replication.\")\n",
    "doc1.similarity(doc2)"
   ]
  },
  {
   "cell_type": "code",
   "execution_count": 11,
   "metadata": {},
   "outputs": [],
   "source": [
    "dat=pd.read_csv('/media/maria/DATA1/Documents/corona/metadata_features.csv')"
   ]
  },
  {
   "cell_type": "code",
   "execution_count": 14,
   "metadata": {},
   "outputs": [
    {
     "name": "stdout",
     "output_type": "stream",
     "text": [
      "Unnamed: 0                                                                   10\n",
      "paper_id                                                               fy4w7xz8\n",
      "title                         Association of HLA class I with severe acute r...\n",
      "abstract                      BACKGROUND: The human leukocyte antigen (HLA) ...\n",
      "publish_time                                                         2003-09-12\n",
      "authors                       Lin, Marie; Tseng, Hsiang-Kuang; Trejaut, Jean...\n",
      "url                           https://www.ncbi.nlm.nih.gov/pmc/articles/PMC2...\n",
      "Statistical Methods                                                 ['methods']\n",
      "statistical_method_details    METHODS: HLA-class I and II allele typing by P...\n",
      "Study Type                                                          ['genetic']\n",
      "study_type_details            In an effort to establish a screening program ...\n",
      "results                       RESULTS: Woolf and Haldane Odds ratio (OR) and...\n",
      "coronavirus                   During the Taiwan epidemic of severe acute res...\n",
      "fatality                                                                    NaN\n",
      "sample_size                                                                 NaN\n",
      "paper_focus                                                                 NaN\n",
      "variables_controlled_for      In an effort to establish a screening program ...\n",
      "Name: 10, dtype: object\n"
     ]
    }
   ],
   "source": [
    "print(dat.iloc[10])"
   ]
  },
  {
   "cell_type": "code",
   "execution_count": 9,
   "metadata": {},
   "outputs": [
    {
     "name": "stdout",
     "output_type": "stream",
     "text": [
      "10       In an effort to establish a screening program ...\n",
      "266      Patients with a virus-negative respiratory sam...\n",
      "465      Indeed, there was no significant difference be...\n",
      "716      Intent-to-treat analysis showed no significant...\n",
      "725      The HCWs with IgG against SARS and those witho...\n",
      "                               ...                        \n",
      "55904    The control group were injected with a saline ...\n",
      "55916    The effectiveness of inoculating calves with r...\n",
      "56251    After controlling for other independent variab...\n",
      "56358    A double-blinded randomized clinical trial was...\n",
      "56611    Salmonella specific IgYs detected in the immun...\n",
      "Name: variables_controlled_for, Length: 490, dtype: object\n"
     ]
    }
   ],
   "source": [
    "print(dat['variables_controlled_for'].dropna())"
   ]
  },
  {
   "cell_type": "code",
   "execution_count": null,
   "metadata": {},
   "outputs": [],
   "source": []
  },
  {
   "cell_type": "code",
   "execution_count": 5,
   "metadata": {},
   "outputs": [
    {
     "name": "stdout",
     "output_type": "stream",
     "text": [
      "Index(['cord_uid', 'language', 'sentence_id', 'section', 'subsection',\n",
      "       'sentence', 'lemma', 'UMLS', 'translated', 'GGP', 'SO', 'TAXON',\n",
      "       'CHEBI', 'GO', 'CL', 'DNA', 'CELL_TYPE', 'CELL_LINE', 'RNA', 'PROTEIN',\n",
      "       'DISEASE', 'CHEMICAL', 'CANCER', 'ORGAN', 'TISSUE', 'ORGANISM', 'CELL',\n",
      "       'AMINO_ACID', 'GENE_OR_GENE_PRODUCT', 'SIMPLE_CHEMICAL',\n",
      "       'ANATOMICAL_SYSTEM', 'IMMATERIAL_ANATOMICAL_ENTITY',\n",
      "       'MULTI-TISSUE_STRUCTURE', 'DEVELOPING_ANATOMICAL_STRUCTURE',\n",
      "       'ORGANISM_SUBDIVISION', 'CELLULAR_COMPONENT', 'PATHOLOGICAL_FORMATION',\n",
      "       'ORGANISM_SUBSTANCE'],\n",
      "      dtype='object')\n",
      "Int64Index([    0,     1,     2,     3,     4,     5,     6,     7,     8,\n",
      "                9,\n",
      "            ...\n",
      "            24073, 24074, 24075, 24076, 24077, 24078, 24079, 24080, 24081,\n",
      "            24082],\n",
      "           dtype='int64', length=330021)\n",
      "0        in7he5o4\n",
      "1        in7he5o4\n",
      "2        in7he5o4\n",
      "3        in7he5o4\n",
      "4        in7he5o4\n",
      "           ...   \n",
      "24078    c8wn20cc\n",
      "24079    c8wn20cc\n",
      "24080    c8wn20cc\n",
      "24081    c8wn20cc\n",
      "24082    c8wn20cc\n",
      "Name: cord_uid, Length: 330021, dtype: string\n"
     ]
    }
   ],
   "source": [
    "print(df.columns)\n",
    "print(df.index)\n",
    "print(df.cord_uid)"
   ]
  }
 ],
 "metadata": {
  "kernelspec": {
   "display_name": "Python 3",
   "language": "python",
   "name": "python3"
  },
  "language_info": {
   "codemirror_mode": {
    "name": "ipython",
    "version": 3
   },
   "file_extension": ".py",
   "mimetype": "text/x-python",
   "name": "python",
   "nbconvert_exporter": "python",
   "pygments_lexer": "ipython3",
   "version": "3.7.4"
  }
 },
 "nbformat": 4,
 "nbformat_minor": 4
}
